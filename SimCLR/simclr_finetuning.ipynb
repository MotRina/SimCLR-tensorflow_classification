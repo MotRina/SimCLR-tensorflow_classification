{
 "cells": [
  {
   "cell_type": "code",
   "execution_count": 91,
   "metadata": {},
   "outputs": [
    {
     "name": "stdout",
     "output_type": "stream",
     "text": [
      "Physical devices cannot be modified after being initialized\n"
     ]
    }
   ],
   "source": [
    "import tensorflow as tf\n",
    "\n",
    "# GPUデバイスを指定\n",
    "gpus = tf.config.experimental.list_physical_devices('GPU')\n",
    "if gpus:\n",
    "    try:\n",
    "        # GPUメモリの成長を許可する\n",
    "        tf.config.experimental.set_memory_growth(gpus[3], True)\n",
    "        # TensorFlowに特定のGPUを使用するように指示\n",
    "        tf.config.experimental.set_visible_devices(gpus[3], 'GPU')\n",
    "    except RuntimeError as e:\n",
    "        # プログラム起動時にメモリ成長を設定する必要がある\n",
    "        print(e)"
   ]
  },
  {
   "cell_type": "code",
   "execution_count": 250,
   "metadata": {},
   "outputs": [
    {
     "name": "stdout",
     "output_type": "stream",
     "text": [
      "2.15.0\n"
     ]
    }
   ],
   "source": [
    "import tensorflow as tf\n",
    "print(tf.__version__)"
   ]
  },
  {
   "cell_type": "code",
   "execution_count": 251,
   "metadata": {},
   "outputs": [
    {
     "name": "stdout",
     "output_type": "stream",
     "text": [
      "Thu Jan 25 03:45:42 2024       \n",
      "+---------------------------------------------------------------------------------------+\n",
      "| NVIDIA-SMI 535.146.02             Driver Version: 535.146.02   CUDA Version: 12.2     |\n",
      "|-----------------------------------------+----------------------+----------------------+\n",
      "| GPU  Name                 Persistence-M | Bus-Id        Disp.A | Volatile Uncorr. ECC |\n",
      "| Fan  Temp   Perf          Pwr:Usage/Cap |         Memory-Usage | GPU-Util  Compute M. |\n",
      "|                                         |                      |               MIG M. |\n",
      "|=========================================+======================+======================|\n",
      "|   0  NVIDIA GeForce RTX 2080 Ti     Off | 00000000:19:00.0 Off |                  N/A |\n",
      "| 24%   29C    P8              15W / 250W |   9963MiB / 11264MiB |      0%      Default |\n",
      "|                                         |                      |                  N/A |\n",
      "+-----------------------------------------+----------------------+----------------------+\n",
      "|   1  NVIDIA GeForce RTX 2080 Ti     Off | 00000000:1A:00.0 Off |                  N/A |\n",
      "| 24%   32C    P8               1W / 250W |   4429MiB / 11264MiB |      0%      Default |\n",
      "|                                         |                      |                  N/A |\n",
      "+-----------------------------------------+----------------------+----------------------+\n",
      "|   2  NVIDIA GeForce RTX 2080 Ti     Off | 00000000:67:00.0 Off |                  N/A |\n",
      "| 24%   34C    P8               2W / 250W |    157MiB / 11264MiB |      0%      Default |\n",
      "|                                         |                      |                  N/A |\n",
      "+-----------------------------------------+----------------------+----------------------+\n",
      "|   3  NVIDIA GeForce RTX 2080 Ti     Off | 00000000:68:00.0 Off |                  N/A |\n",
      "| 17%   46C    P8              19W / 250W |    157MiB / 11264MiB |      0%      Default |\n",
      "|                                         |                      |                  N/A |\n",
      "+-----------------------------------------+----------------------+----------------------+\n",
      "                                                                                         \n",
      "+---------------------------------------------------------------------------------------+\n",
      "| Processes:                                                                            |\n",
      "|  GPU   GI   CI        PID   Type   Process name                            GPU Memory |\n",
      "|        ID   ID                                                             Usage      |\n",
      "|=======================================================================================|\n",
      "+---------------------------------------------------------------------------------------+\n"
     ]
    }
   ],
   "source": [
    "!nvidia-smi"
   ]
  },
  {
   "cell_type": "code",
   "execution_count": 54,
   "metadata": {},
   "outputs": [],
   "source": [
    "import tensorflow as tf\n",
    "\n",
    "# GPUデバイスを指定\n",
    "gpus = tf.config.experimental.list_physical_devices('GPU')\n",
    "if gpus:\n",
    "    try:\n",
    "        # GPUメモリの成長を許可する\n",
    "        tf.config.experimental.set_memory_growth(gpus[1], True)\n",
    "        # TensorFlowに特定のGPUを使用するように指示\n",
    "        tf.config.experimental.set_visible_devices(gpus[1], 'GPU')\n",
    "    except RuntimeError as e:\n",
    "        # プログラム起動時にメモリ成長を設定する必要がある\n",
    "        print(e)"
   ]
  },
  {
   "cell_type": "code",
   "execution_count": 252,
   "metadata": {},
   "outputs": [
    {
     "name": "stdout",
     "output_type": "stream",
     "text": [
      "2868 628\n"
     ]
    }
   ],
   "source": [
    "# Other imports\n",
    "from sklearn.preprocessing import LabelEncoder\n",
    "from sklearn.manifold import TSNE\n",
    "from tensorflow.keras.layers import *\n",
    "from tensorflow.keras.models import *\n",
    "import matplotlib.pyplot as plt\n",
    "from imutils import paths\n",
    "from tqdm import tqdm\n",
    "import seaborn as sns\n",
    "import numpy as np\n",
    "import cv2\n",
    "\n",
    "# Random seed fixation\n",
    "tf.random.set_seed(666)\n",
    "np.random.seed(666)\n",
    "\n",
    "# Train and test image paths\n",
    "train_images = list(paths.list_images(\"/workspaces/2023f_ojus/src/dataset/train\"))\n",
    "val_images = list(paths.list_images(\"/workspaces/2023f_ojus/src/dataset/val\"))\n",
    "print(len(train_images), len(val_images))"
   ]
  },
  {
   "cell_type": "code",
   "execution_count": 253,
   "metadata": {},
   "outputs": [
    {
     "data": {
      "text/plain": [
       "2868"
      ]
     },
     "execution_count": 253,
     "metadata": {},
     "output_type": "execute_result"
    }
   ],
   "source": [
    "# 10% of the dataset\n",
    "train_images_10 = np.random.choice(train_images, len(train_images)//10)\n",
    "len(train_images_10)"
   ]
  },
  {
   "cell_type": "code",
   "execution_count": 255,
   "metadata": {},
   "outputs": [],
   "source": [
    "def prepare_images(image_paths):\n",
    "    images = []\n",
    "    labels = []\n",
    "\n",
    "    for image_path in tqdm(image_paths):\n",
    "        # 画像を読み込む\n",
    "        image_pixels = plt.imread(image_path)\n",
    "\n",
    "        # グレースケールの場合はRGBに変換\n",
    "        if len(image_pixels.shape) == 2:\n",
    "            image_pixels = cv2.cvtColor(image_pixels, cv2.COLOR_GRAY2RGB)\n",
    "\n",
    "        # RGBAの場合はRGBに変換\n",
    "        elif image_pixels.shape[2] == 4:\n",
    "            image_pixels = cv2.cvtColor(image_pixels, cv2.COLOR_RGBA2RGB)\n",
    "\n",
    "        # 画像をリサイズ\n",
    "        image_pixels = cv2.resize(image_pixels, (224, 224))\n",
    "\n",
    "        # 確認のためのアサーション\n",
    "        assert image_pixels.shape == (224, 224, 3), f\"Image shape is {image_pixels.shape}, expected (224, 224, 3)\"\n",
    "\n",
    "        # 画像を正規化\n",
    "        image_pixels = image_pixels / 255.\n",
    "\n",
    "        # # ラベルを取得\n",
    "        # label = image_path.split(\"/\")[2].split(\"_\")[0]\n",
    "        # ラベルを取得（ファイルパスの構造に応じて適切なインデックスを選択）\n",
    "        label = image_path.split(\"/\")[-2]\n",
    "\n",
    "\n",
    "        # 画像とラベルをリストに追加\n",
    "        images.append(image_pixels)\n",
    "        labels.append(label)\n",
    "\n",
    "    # リストをNumPy配列に変換\n",
    "    images = np.array(images)\n",
    "    labels = np.array(labels)\n",
    "\n",
    "    print(images.shape, labels.shape)\n",
    "\n",
    "    return images, labels"
   ]
  },
  {
   "cell_type": "code",
   "execution_count": 256,
   "metadata": {},
   "outputs": [
    {
     "name": "stderr",
     "output_type": "stream",
     "text": [
      "100%|██████████| 2868/2868 [00:18<00:00, 150.96it/s]\n"
     ]
    },
    {
     "name": "stdout",
     "output_type": "stream",
     "text": [
      "(2868, 224, 224, 3) (2868,)\n"
     ]
    },
    {
     "name": "stderr",
     "output_type": "stream",
     "text": [
      "100%|██████████| 628/628 [00:03<00:00, 157.47it/s]\n"
     ]
    },
    {
     "name": "stdout",
     "output_type": "stream",
     "text": [
      "(628, 224, 224, 3) (628,)\n"
     ]
    }
   ],
   "source": [
    "X_train, y_train = prepare_images(train_images_10)\n",
    "X_val, y_val = prepare_images(val_images)"
   ]
  },
  {
   "cell_type": "code",
   "execution_count": 257,
   "metadata": {},
   "outputs": [],
   "source": [
    "le = LabelEncoder()\n",
    "y_train_enc = le.fit_transform(y_train)\n",
    "y_val_enc = le.transform(y_val)"
   ]
  },
  {
   "cell_type": "code",
   "execution_count": 258,
   "metadata": {},
   "outputs": [],
   "source": [
    "# Architecture utils\n",
    "def get_resnet_simclr(hidden_1, hidden_2, hidden_3):\n",
    "    base_model = tf.keras.applications.ResNet50(include_top=False, weights=None, input_shape=(224, 224, 3))\n",
    "    base_model.trainable = True\n",
    "    inputs = Input((224, 224, 3))\n",
    "    h = base_model(inputs, training=False)\n",
    "    h = GlobalAveragePooling2D()(h)\n",
    "\n",
    "    projection_1 = Dense(hidden_1)(h)\n",
    "    projection_1 = Activation(\"relu\")(projection_1)\n",
    "    projection_2 = Dense(hidden_2)(projection_1)\n",
    "    projection_2 = Activation(\"relu\")(projection_2)\n",
    "    projection_3 = Dense(hidden_3)(projection_2)\n",
    "\n",
    "    resnet_simclr = Model(inputs, projection_3)\n",
    "\n",
    "    return resnet_simclr"
   ]
  },
  {
   "cell_type": "code",
   "execution_count": 259,
   "metadata": {},
   "outputs": [
    {
     "name": "stdout",
     "output_type": "stream",
     "text": [
      "Model: \"model_18\"\n",
      "_________________________________________________________________\n",
      " Layer (type)                Output Shape              Param #   \n",
      "=================================================================\n",
      " input_20 (InputLayer)       [(None, 224, 224, 3)]     0         \n",
      "                                                                 \n",
      " resnet50 (Functional)       (None, 7, 7, 2048)        23587712  \n",
      "                                                                 \n",
      " global_average_pooling2d_9  (None, 2048)              0         \n",
      "  (GlobalAveragePooling2D)                                       \n",
      "                                                                 \n",
      " dense_81 (Dense)            (None, 256)               524544    \n",
      "                                                                 \n",
      " activation_18 (Activation)  (None, 256)               0         \n",
      "                                                                 \n",
      " dense_82 (Dense)            (None, 128)               32896     \n",
      "                                                                 \n",
      " activation_19 (Activation)  (None, 128)               0         \n",
      "                                                                 \n",
      " dense_83 (Dense)            (None, 50)                6450      \n",
      "                                                                 \n",
      "=================================================================\n",
      "Total params: 24151602 (92.13 MB)\n",
      "Trainable params: 24098482 (91.93 MB)\n",
      "Non-trainable params: 53120 (207.50 KB)\n",
      "_________________________________________________________________\n"
     ]
    }
   ],
   "source": [
    "# モデルの重みをローカルファイルから読み込む\n",
    "weights_path = '/workspaces/2023f_ojus/SimCLR/resnet_simclr.h5'\n",
    "resnet_simclr = get_resnet_simclr(256, 128, 50)\n",
    "resnet_simclr.load_weights(weights_path)\n",
    "resnet_simclr.summary()"
   ]
  },
  {
   "cell_type": "code",
   "execution_count": 260,
   "metadata": {},
   "outputs": [],
   "source": [
    "def plot_training(H):\n",
    "\t\tplt.plot(H.history[\"loss\"], label=\"train_loss\")\n",
    "\t\tplt.plot(H.history[\"val_loss\"], label=\"val_loss\")\n",
    "\t\tplt.plot(H.history[\"accuracy\"], label=\"train_acc\")\n",
    "\t\tplt.plot(H.history[\"val_accuracy\"], label=\"val_acc\")\n",
    "\t\tplt.title(\"Training Loss and Accuracy\")\n",
    "\t\tplt.xlabel(\"Epoch #\")\n",
    "\t\tplt.ylabel(\"Loss/Accuracy\")\n",
    "\t\tplt.legend(loc=\"lower left\")\n",
    "\t\tplt.show()"
   ]
  },
  {
   "cell_type": "code",
   "execution_count": 261,
   "metadata": {},
   "outputs": [],
   "source": [
    "def get_linear_model(features):\n",
    "    linear_model = Sequential([Dense(5, input_shape=(features, ), activation=\"sigmoid\")])\n",
    "    return linear_model"
   ]
  },
  {
   "cell_type": "code",
   "execution_count": 262,
   "metadata": {},
   "outputs": [
    {
     "name": "stdout",
     "output_type": "stream",
     "text": [
      "Model: \"model_18\"\n",
      "_________________________________________________________________\n",
      " Layer (type)                Output Shape              Param #   \n",
      "=================================================================\n",
      " input_20 (InputLayer)       [(None, 224, 224, 3)]     0         \n",
      "                                                                 \n",
      " resnet50 (Functional)       (None, 7, 7, 2048)        23587712  \n",
      "                                                                 \n",
      " global_average_pooling2d_9  (None, 2048)              0         \n",
      "  (GlobalAveragePooling2D)                                       \n",
      "                                                                 \n",
      " dense_81 (Dense)            (None, 256)               524544    \n",
      "                                                                 \n",
      " activation_18 (Activation)  (None, 256)               0         \n",
      "                                                                 \n",
      " dense_82 (Dense)            (None, 128)               32896     \n",
      "                                                                 \n",
      " activation_19 (Activation)  (None, 128)               0         \n",
      "                                                                 \n",
      " dense_83 (Dense)            (None, 50)                6450      \n",
      "                                                                 \n",
      "=================================================================\n",
      "Total params: 24151602 (92.13 MB)\n",
      "Trainable params: 563890 (2.15 MB)\n",
      "Non-trainable params: 23587712 (89.98 MB)\n",
      "_________________________________________________________________\n"
     ]
    }
   ],
   "source": [
    "resnet_simclr.layers[1].trainable = False\n",
    "resnet_simclr.summary()"
   ]
  },
  {
   "cell_type": "code",
   "execution_count": 263,
   "metadata": {},
   "outputs": [
    {
     "name": "stdout",
     "output_type": "stream",
     "text": [
      "90/90 [==============================] - 4s 33ms/step\n",
      "20/20 [==============================] - 1s 33ms/step\n",
      "(2868, 128) (628, 128)\n"
     ]
    }
   ],
   "source": [
    "# Encoder model with non-linear projections\n",
    "projection = Model(resnet_simclr.input, resnet_simclr.layers[-2].output)\n",
    "\n",
    "# Extract train and test features\n",
    "train_features = projection.predict(X_train)\n",
    "val_features = projection.predict(X_val)\n",
    "\n",
    "print(train_features.shape, val_features.shape)"
   ]
  },
  {
   "cell_type": "code",
   "execution_count": 266,
   "metadata": {},
   "outputs": [
    {
     "name": "stdout",
     "output_type": "stream",
     "text": [
      "Epoch 1/100\n",
      "23/23 [==============================] - 1s 11ms/step - loss: 9.9289 - accuracy: 0.1963 - val_loss: 4.4939 - val_accuracy: 0.3822\n",
      "Epoch 2/100\n",
      "23/23 [==============================] - 0s 6ms/step - loss: 2.9885 - accuracy: 0.5129 - val_loss: 2.8560 - val_accuracy: 0.5510\n",
      "Epoch 3/100\n",
      "23/23 [==============================] - 0s 7ms/step - loss: 1.6580 - accuracy: 0.5683 - val_loss: 1.8354 - val_accuracy: 0.5239\n",
      "Epoch 4/100\n",
      "23/23 [==============================] - 0s 7ms/step - loss: 0.9988 - accuracy: 0.6695 - val_loss: 1.3860 - val_accuracy: 0.4538\n",
      "Epoch 5/100\n",
      "23/23 [==============================] - 0s 7ms/step - loss: 0.7970 - accuracy: 0.6569 - val_loss: 1.1863 - val_accuracy: 0.4092\n",
      "Epoch 6/100\n",
      "23/23 [==============================] - 0s 7ms/step - loss: 0.7296 - accuracy: 0.6590 - val_loss: 1.0973 - val_accuracy: 0.3901\n",
      "Epoch 7/100\n",
      "23/23 [==============================] - 0s 6ms/step - loss: 0.7032 - accuracy: 0.6778 - val_loss: 1.0593 - val_accuracy: 0.4140\n",
      "Epoch 8/100\n",
      "23/23 [==============================] - 0s 6ms/step - loss: 0.6864 - accuracy: 0.6709 - val_loss: 1.0430 - val_accuracy: 0.4252\n",
      "Epoch 9/100\n",
      "23/23 [==============================] - 0s 5ms/step - loss: 0.6746 - accuracy: 0.6750 - val_loss: 0.9963 - val_accuracy: 0.4156\n",
      "Epoch 10/100\n",
      "23/23 [==============================] - 0s 7ms/step - loss: 0.6625 - accuracy: 0.6740 - val_loss: 0.9915 - val_accuracy: 0.4092\n",
      "Epoch 11/100\n",
      "23/23 [==============================] - 0s 6ms/step - loss: 0.6559 - accuracy: 0.6754 - val_loss: 0.9655 - val_accuracy: 0.4140\n",
      "Epoch 12/100\n",
      "23/23 [==============================] - 0s 6ms/step - loss: 0.6439 - accuracy: 0.6764 - val_loss: 0.9730 - val_accuracy: 0.4283\n",
      "Epoch 13/100\n",
      "23/23 [==============================] - 0s 7ms/step - loss: 0.6356 - accuracy: 0.6883 - val_loss: 0.9351 - val_accuracy: 0.4745\n",
      "Epoch 14/100\n",
      "23/23 [==============================] - 0s 7ms/step - loss: 0.6335 - accuracy: 0.6733 - val_loss: 0.9506 - val_accuracy: 0.4761\n",
      "Epoch 15/100\n",
      "23/23 [==============================] - 0s 6ms/step - loss: 0.6345 - accuracy: 0.6872 - val_loss: 0.9507 - val_accuracy: 0.4650\n",
      "Epoch 16/100\n",
      "23/23 [==============================] - 0s 6ms/step - loss: 0.6218 - accuracy: 0.6844 - val_loss: 0.9346 - val_accuracy: 0.4841\n",
      "Epoch 17/100\n",
      "23/23 [==============================] - 0s 6ms/step - loss: 0.6215 - accuracy: 0.6890 - val_loss: 0.9461 - val_accuracy: 0.4554\n",
      "Epoch 18/100\n",
      "23/23 [==============================] - 0s 6ms/step - loss: 0.6198 - accuracy: 0.6886 - val_loss: 0.9399 - val_accuracy: 0.4602\n",
      "Epoch 19/100\n",
      "23/23 [==============================] - 0s 6ms/step - loss: 0.6122 - accuracy: 0.6848 - val_loss: 0.8929 - val_accuracy: 0.5080\n",
      "Epoch 20/100\n",
      "23/23 [==============================] - 0s 6ms/step - loss: 0.6152 - accuracy: 0.6921 - val_loss: 0.9335 - val_accuracy: 0.4825\n",
      "Epoch 21/100\n",
      "23/23 [==============================] - 0s 7ms/step - loss: 0.6081 - accuracy: 0.6893 - val_loss: 0.9164 - val_accuracy: 0.5096\n",
      "Epoch 22/100\n",
      "23/23 [==============================] - 0s 6ms/step - loss: 0.6047 - accuracy: 0.6960 - val_loss: 0.9143 - val_accuracy: 0.4920\n",
      "Epoch 23/100\n",
      "23/23 [==============================] - 0s 6ms/step - loss: 0.6025 - accuracy: 0.6956 - val_loss: 0.9123 - val_accuracy: 0.4809\n",
      "Epoch 24/100\n",
      "14/23 [=================>............] - ETA: 0s - loss: 0.6110 - accuracy: 0.6825Restoring model weights from the end of the best epoch: 19.\n",
      "23/23 [==============================] - 0s 7ms/step - loss: 0.6054 - accuracy: 0.6949 - val_loss: 0.8980 - val_accuracy: 0.4952\n",
      "Epoch 24: early stopping\n"
     ]
    },
    {
     "data": {
      "image/png": "[encoded data removed]",
      "text/plain": [
       "<Figure size 640x480 with 1 Axes>"
      ]
     },
     "metadata": {},
     "output_type": "display_data"
    }
   ],
   "source": [
    "# Early Stopping to prevent overfitting\n",
    "es = tf.keras.callbacks.EarlyStopping(monitor=\"val_loss\", patience=5, verbose=2, restore_best_weights=True)\n",
    "\n",
    "# Linear model\n",
    "# wandb.init(project=\"simclr_ojus\", id=\"train\")  # wandbは使用しないため削除\n",
    "\n",
    "linear_model = get_linear_model(128)\n",
    "linear_model.compile(loss=\"sparse_categorical_crossentropy\", metrics=[\"accuracy\"], optimizer=\"adam\")\n",
    "\n",
    "# wandbのWandbCallbackは使用しないため、callbacksから削除\n",
    "history = linear_model.fit(train_features, y_train_enc,\n",
    "                           validation_data=(val_features, y_val_enc),\n",
    "                           batch_size=128,\n",
    "                           epochs=100,\n",
    "                           callbacks=[es])\n",
    "plot_training(history)"
   ]
  },
  {
   "cell_type": "code",
   "execution_count": 267,
   "metadata": {},
   "outputs": [
    {
     "name": "stderr",
     "output_type": "stream",
     "text": [
      "100%|██████████| 708/708 [00:02<00:00, 244.96it/s]\n"
     ]
    },
    {
     "name": "stdout",
     "output_type": "stream",
     "text": [
      "(708, 224, 224, 3) (708,)\n",
      "23/23 [==============================] - 1s 34ms/step\n",
      "23/23 [==============================] - 0s 2ms/step - loss: 0.7464 - accuracy: 0.6328\n",
      "Test Loss: 0.7463852763175964\n",
      "Test Accuracy: 0.6327683329582214\n"
     ]
    }
   ],
   "source": [
    "test_images = list(paths.list_images(\"/workspaces/2023f_ojus/src/dataset/test\"))\n",
    "X_test, y_test = prepare_images(test_images)\n",
    "y_test_enc = le.transform(y_test)\n",
    "test_features_new = projection.predict(X_test)\n",
    "test_loss, test_accuracy = linear_model.evaluate(test_features_new, y_test_enc)\n",
    "\n",
    "print(\"Test Loss:\", test_loss)\n",
    "print(\"Test Accuracy:\", test_accuracy)"
   ]
  },
  {
   "cell_type": "code",
   "execution_count": 200,
   "metadata": {},
   "outputs": [
    {
     "name": "stdout",
     "output_type": "stream",
     "text": [
      "23/23 [==============================] - 0s 2ms/step\n"
     ]
    }
   ],
   "source": [
    "# テストデータに対する予測\n",
    "y_pred = linear_model.predict(test_features_new)\n",
    "y_pred_classes = np.argmax(y_pred, axis=1)\n"
   ]
  },
  {
   "cell_type": "code",
   "execution_count": 201,
   "metadata": {},
   "outputs": [
    {
     "data": {
      "image/png": "[encoded data removed]",
      "text/plain": [
       "<Figure size 1000x800 with 2 Axes>"
      ]
     },
     "metadata": {},
     "output_type": "display_data"
    }
   ],
   "source": [
    "from sklearn.metrics import confusion_matrix\n",
    "import seaborn as sns\n",
    "import matplotlib.pyplot as plt\n",
    "\n",
    "# 混同行列を計算\n",
    "cm = confusion_matrix(y_pred_classes,y_test_enc)\n",
    "\n",
    "# 混同行列をプロット\n",
    "plt.figure(figsize=(10, 8))\n",
    "sns.heatmap(cm, annot=True, fmt='d', cmap='Blues', xticklabels=le.classes_, yticklabels=le.classes_)\n",
    "plt.title('Confusion Matrix')\n",
    "plt.ylabel('Actual')\n",
    "plt.xlabel('Predicted')\n",
    "plt.show()\n"
   ]
  },
  {
   "cell_type": "code",
   "execution_count": 187,
   "metadata": {},
   "outputs": [
    {
     "name": "stdout",
     "output_type": "stream",
     "text": [
      "y_test_enc shape: (708,)\n",
      "y_pred_classes shape: (708,)\n",
      "Actual distribution: {0: 298, 1: 410}\n",
      "Predicted distribution: {0: 162, 1: 546}\n",
      "Number of test images: 708\n"
     ]
    }
   ],
   "source": [
    "# y_test_encとy_pred_classesの形状を確認\n",
    "print(\"y_test_enc shape:\", y_test_enc.shape)\n",
    "print(\"y_pred_classes shape:\", y_pred_classes.shape)\n",
    "\n",
    "# ラベル数の一致を確認\n",
    "unique, counts = np.unique(y_test_enc, return_counts=True)\n",
    "print(\"Actual distribution:\", dict(zip(unique, counts)))\n",
    "unique, counts = np.unique(y_pred_classes, return_counts=True)\n",
    "print(\"Predicted distribution:\", dict(zip(unique, counts)))\n",
    "\n",
    "# テストデータのサンプル数を確認\n",
    "print(\"Number of test images:\", len(X_test))\n"
   ]
  },
  {
   "cell_type": "code",
   "execution_count": 188,
   "metadata": {},
   "outputs": [
    {
     "name": "stdout",
     "output_type": "stream",
     "text": [
      "{0: 162, 1: 546}\n"
     ]
    }
   ],
   "source": [
    "# 予測されたクラスのユニークな値を確認\n",
    "unique, counts = np.unique(y_pred_classes, return_counts=True)\n",
    "print(dict(zip(unique, counts)))\n"
   ]
  },
  {
   "cell_type": "code",
   "execution_count": 142,
   "metadata": {},
   "outputs": [
    {
     "name": "stdout",
     "output_type": "stream",
     "text": [
      "708\n"
     ]
    }
   ],
   "source": [
    "print(len(test_images))"
   ]
  },
  {
   "cell_type": "code",
   "execution_count": 189,
   "metadata": {},
   "outputs": [
    {
     "name": "stdout",
     "output_type": "stream",
     "text": [
      "WARNING:tensorflow:Compiled the loaded model, but the compiled metrics have yet to be built. `model.compile_metrics` will be empty until you train or evaluate the model.\n"
     ]
    },
    {
     "name": "stderr",
     "output_type": "stream",
     "text": [
      "/opt/conda/lib/python3.10/site-packages/keras/src/engine/training.py:3103: UserWarning: You are saving your model as an HDF5 file via `model.save()`. This file format is considered legacy. We recommend using instead the native Keras format, e.g. `model.save('my_model.keras')`.\n",
      "  saving_api.save_model(\n"
     ]
    }
   ],
   "source": [
    "# 学習したモデルを保存\n",
    "resnet_simclr.save('/workspaces/2023f_ojus/z_output/simclr_final_2.h5')"
   ]
  }
 ],
 "metadata": {
  "kernelspec": {
   "display_name": "base",
   "language": "python",
   "name": "python3"
  },
  "language_info": {
   "codemirror_mode": {
    "name": "ipython",
    "version": 3
   },
   "file_extension": ".py",
   "mimetype": "text/x-python",
   "name": "python",
   "nbconvert_exporter": "python",
   "pygments_lexer": "ipython3",
   "version": "3.10.13"
  }
 },
 "nbformat": 4,
 "nbformat_minor": 2
}
